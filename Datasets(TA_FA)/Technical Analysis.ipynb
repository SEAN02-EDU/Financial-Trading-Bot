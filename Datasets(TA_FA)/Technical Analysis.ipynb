{
 "cells": [
  {
   "cell_type": "code",
   "execution_count": 1,
   "id": "7aa40f64",
   "metadata": {},
   "outputs": [],
   "source": [
    "import yfinance as yf\n",
    "import pandas as pd\n",
    "import talib\n",
    "from datetime import datetime, timedelta"
   ]
  },
  {
   "cell_type": "code",
   "execution_count": 17,
   "id": "376b9678",
   "metadata": {},
   "outputs": [
    {
     "name": "stderr",
     "output_type": "stream",
     "text": [
      "[*********************100%***********************]  1 of 1 completed"
     ]
    },
    {
     "name": "stdout",
     "output_type": "stream",
     "text": [
      "Price            Close        High         Low        Open    Volume  \\\n",
      "Ticker             TSM         TSM         TSM         TSM       TSM   \n",
      "Date                                                                   \n",
      "2021-04-01  116.292038  116.366579  113.347461  114.437697  17904000   \n",
      "2021-04-05  116.012474  118.714774  114.316549  118.407269  14113900   \n",
      "2021-04-06  114.092918  115.555887  113.254273  115.546566  13042300   \n",
      "2021-04-07  111.716759  114.251330  111.670165  114.092921  11193200   \n",
      "2021-04-08  115.015427  115.378839  113.105178  113.105178  10226700   \n",
      "...                ...         ...         ...         ...       ...   \n",
      "2022-09-26   69.947754   71.078262   69.861525   70.388459  13441500   \n",
      "2022-09-27   69.966904   70.934543   69.315425   70.426774  12430600   \n",
      "2022-09-28   69.104645   69.257937   67.734623   68.127430  12943600   \n",
      "2022-09-29   66.374176   67.715457   65.607735   67.562164  16120300   \n",
      "2022-09-30   65.684395   66.728681   64.898788   64.965852  10472400   \n",
      "\n",
      "Price      Daily_ROI          OBV       ATR      MACD        ADX  \n",
      "Ticker                                                            \n",
      "Date                                                              \n",
      "2021-04-01       NaN   17904000.0       NaN       NaN        NaN  \n",
      "2021-04-05 -0.002404    3790100.0       NaN       NaN        NaN  \n",
      "2021-04-06 -0.016546   -9252200.0       NaN       NaN        NaN  \n",
      "2021-04-07 -0.020827  -20445400.0       NaN       NaN        NaN  \n",
      "2021-04-08  0.029527  -10218700.0       NaN       NaN        NaN  \n",
      "...              ...          ...       ...       ...        ...  \n",
      "2022-09-26 -0.011642 -171515100.0  1.837682 -2.514951  25.849068  \n",
      "2022-09-27  0.000274 -159084500.0  1.822070 -2.645556  27.327434  \n",
      "2022-09-28 -0.012324 -172028100.0  1.851371 -2.786517  29.106248  \n",
      "2022-09-29 -0.039512 -188148400.0  1.968909 -3.083016  31.213575  \n",
      "2022-09-30 -0.010392 -198620800.0  1.958979 -3.335208  33.305597  \n",
      "\n",
      "[379 rows x 10 columns]\n"
     ]
    },
    {
     "name": "stderr",
     "output_type": "stream",
     "text": [
      "\n"
     ]
    }
   ],
   "source": [
    "tickers = ['TSM']\n",
    "# TSLA, AMZN, TSM\n",
    "start_date = '2021-04-01'\n",
    "end_date = '2022-10-01'\n",
    "\n",
    "data_ta_fa = {}\n",
    "\n",
    "for ticker in tickers:\n",
    "    df = yf.download(ticker, start=start_date, end=end_date, interval='1d')\n",
    "    df.dropna(inplace=True)\n",
    "\n",
    "    df['Daily_ROI'] = df['Close'].pct_change()\n",
    "\n",
    "    close = df['Close'].values.ravel().astype('float64')\n",
    "    high = df['High'].values.ravel().astype('float64')\n",
    "    low = df['Low'].values.ravel().astype('float64')\n",
    "    volume = df['Volume'].values.ravel().astype('float64')\n",
    "\n",
    "    df['OBV'] = talib.OBV(close, volume)\n",
    "\n",
    "    df['ATR'] = talib.ATR(high , low, close, timeperiod=14)\n",
    "\n",
    "    macd, macdsignal, macdhist = talib.MACD(close, fastperiod=12, slowperiod=26, signalperiod=9)\n",
    "    df['MACD'] = macd\n",
    "\n",
    "    df['ADX'] = talib.ADX(high, low, close, timeperiod=14)\n",
    "\n",
    "    data_ta_fa[ticker] = df\n",
    "\n",
    "print(data_ta_fa[\"TSM\"])"
   ]
  },
  {
   "cell_type": "code",
   "execution_count": null,
   "id": "82f3dd40",
   "metadata": {},
   "outputs": [],
   "source": [
    "# Run this if TSLA was used\n",
    "\n",
    "TSLA_FA = pd.read_csv('/Users/tanyikchen/Library/CloudStorage/OneDrive-UniversityofNottinghamMalaysia/y3/DIA/Datasets/TSLA_FA.csv')\n",
    "\n",
    "TSLA_FA['Date'] = pd.to_datetime(TSLA_FA['Date'], dayfirst=True, format='mixed')\n",
    "TSLA_FA.set_index('Date', inplace=True)\n",
    "\n",
    "merged_df = data_ta_fa['TSLA'].copy()\n",
    "\n",
    "for col in TSLA_FA.columns:\n",
    "    merged_df[(col, 'TSLA')] = TSLA_FA[col]\n",
    "\n",
    "merged_df = merged_df[merged_df.index >= '2021-10-01']\n",
    "\n",
    "merged_df.to_csv('/Users/tanyikchen/Library/CloudStorage/OneDrive-UniversityofNottinghamMalaysia/y3/DIA/Datasets/TSLA_TA_FA.csv', index=True)"
   ]
  },
  {
   "cell_type": "code",
   "execution_count": null,
   "id": "4cd595c2",
   "metadata": {},
   "outputs": [],
   "source": [
    "# Run this if AMZN was used\n",
    "\n",
    "AMZN_FA = pd.read_csv('/Users/tanyikchen/Library/CloudStorage/OneDrive-UniversityofNottinghamMalaysia/y3/DIA/Datasets/AMZN_FA.csv')\n",
    "\n",
    "AMZN_FA['Date'] = pd.to_datetime(AMZN_FA['Date'], dayfirst=True, format='mixed')\n",
    "AMZN_FA.set_index('Date', inplace=True)\n",
    "\n",
    "merged_df = data_ta_fa['AMZN'].copy()\n",
    "\n",
    "for col in AMZN_FA.columns:\n",
    "    merged_df[(col, 'AMZN')] = AMZN_FA[col]\n",
    "\n",
    "merged_df = merged_df[merged_df.index >= '2021-10-01']\n",
    "\n",
    "merged_df.to_csv('/Users/tanyikchen/Library/CloudStorage/OneDrive-UniversityofNottinghamMalaysia/y3/DIA/Datasets/AMZN_TA_FA.csv', index=True)\n"
   ]
  },
  {
   "cell_type": "code",
   "execution_count": 19,
   "id": "03b207b4",
   "metadata": {},
   "outputs": [],
   "source": [
    "# Run this if TSM was used\n",
    "\n",
    "TSM_FA = pd.read_csv('/Users/tanyikchen/Library/CloudStorage/OneDrive-UniversityofNottinghamMalaysia/y3/DIA/Datasets/TSM_FA.csv')\n",
    "\n",
    "TSM_FA['Date'] = pd.to_datetime(TSM_FA['Date'], dayfirst=True, format='mixed')\n",
    "TSM_FA.set_index('Date', inplace=True)\n",
    "\n",
    "merged_df = data_ta_fa['TSM'].copy()\n",
    "\n",
    "for col in TSM_FA.columns:\n",
    "    merged_df[(col, 'TSM')] = TSM_FA[col]\n",
    "\n",
    "merged_df = merged_df[merged_df.index >= '2021-10-01']\n",
    "\n",
    "merged_df.to_csv('/Users/tanyikchen/Library/CloudStorage/OneDrive-UniversityofNottinghamMalaysia/y3/DIA/Datasets/TSM_TA_FA.csv', index=True)"
   ]
  }
 ],
 "metadata": {
  "kernelspec": {
   "display_name": "base",
   "language": "python",
   "name": "python3"
  },
  "language_info": {
   "codemirror_mode": {
    "name": "ipython",
    "version": 3
   },
   "file_extension": ".py",
   "mimetype": "text/x-python",
   "name": "python",
   "nbconvert_exporter": "python",
   "pygments_lexer": "ipython3",
   "version": "3.12.7"
  }
 },
 "nbformat": 4,
 "nbformat_minor": 5
}
